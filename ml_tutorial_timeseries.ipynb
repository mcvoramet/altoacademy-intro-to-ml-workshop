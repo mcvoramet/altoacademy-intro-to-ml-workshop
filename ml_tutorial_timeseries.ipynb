{
 "cells": [
  {
   "cell_type": "markdown",
   "id": "26076137",
   "metadata": {},
   "source": [
    "### Time Series Analysis with the Airline Passengers Dataset"
   ]
  },
  {
   "cell_type": "code",
   "execution_count": null,
   "id": "5d7ecbf4",
   "metadata": {},
   "outputs": [],
   "source": [
    "\n",
    "import pandas as pd\n",
    "from statsmodels.tsa.arima.model import ARIMA\n",
    "from sklearn.metrics import mean_squared_error\n",
    "\n",
    "# Load the airline passengers dataset\n",
    "url = 'https://raw.githubusercontent.com/jbrownlee/Datasets/master/airline-passengers.csv'\n",
    "df = pd.read_csv(url, parse_dates=['Month'], index_col='Month')\n",
    "\n",
    "# Display the dataset\n",
    "df.head()\n"
   ]
  },
  {
   "cell_type": "markdown",
   "id": "7fd328c0",
   "metadata": {},
   "source": [
    "### Visualization of the Time Series Data"
   ]
  },
  {
   "cell_type": "code",
   "execution_count": null,
   "id": "c312d766",
   "metadata": {},
   "outputs": [],
   "source": [
    "\n",
    "import plotly.express as px\n",
    "\n",
    "# Plot the time series data\n",
    "fig = px.line(df, x=df.index, y='Passengers', title='Monthly Airline Passengers (1949-1960)')\n",
    "fig.show()\n"
   ]
  },
  {
   "cell_type": "markdown",
   "id": "5473fcb5",
   "metadata": {},
   "source": [
    "### Linear Regression for Time Series Forecasting"
   ]
  },
  {
   "cell_type": "code",
   "execution_count": null,
   "id": "b410025b",
   "metadata": {},
   "outputs": [],
   "source": [
    "\n",
    "from sklearn.linear_model import LinearRegression\n",
    "import numpy as np\n",
    "\n",
    "# Prepare data for linear regression\n",
    "X = np.array(range(len(df))).reshape(-1, 1)\n",
    "y = df['Passengers'].values\n",
    "\n",
    "# Train-test split\n",
    "train_size = int(0.8 * len(X))\n",
    "X_train, X_test = X[:train_size], X[train_size:]\n",
    "y_train, y_test = y[:train_size], y[train_size:]\n",
    "\n",
    "# Train a linear regression model\n",
    "lr = LinearRegression().fit(X_train, y_train)\n",
    "\n",
    "# Predict on test set\n",
    "y_pred = lr.predict(X_test)\n",
    "\n",
    "# Evaluate the model\n",
    "mse = mean_squared_error(y_test, y_pred)\n",
    "mse\n"
   ]
  },
  {
   "cell_type": "markdown",
   "id": "c2de517a",
   "metadata": {},
   "source": [
    "### Time Series Forecasting with ARIMA"
   ]
  },
  {
   "cell_type": "code",
   "execution_count": null,
   "id": "7b5b8769",
   "metadata": {},
   "outputs": [],
   "source": [
    "\n",
    "# Fit an ARIMA model\n",
    "model = ARIMA(df, order=(5,1,0))\n",
    "model_fit = model.fit(disp=0)\n",
    "\n",
    "# Forecast\n",
    "forecast = model_fit.forecast(steps=12)[0]\n",
    "forecast\n"
   ]
  },
  {
   "cell_type": "markdown",
   "id": "e40db775",
   "metadata": {},
   "source": [
    "### Feature Engineering for Time Series"
   ]
  },
  {
   "cell_type": "code",
   "execution_count": null,
   "id": "a43395e3",
   "metadata": {},
   "outputs": [],
   "source": [
    "\n",
    "# Creating lag features\n",
    "df['lag1'] = df['Passengers'].shift(1)\n",
    "df['lag2'] = df['Passengers'].shift(2)\n",
    "df['lag3'] = df['Passengers'].shift(3)\n",
    "\n",
    "# Dropping NA values created due to lags\n",
    "df = df.dropna()\n",
    "\n",
    "# Splitting data into training and test sets\n",
    "train_size = int(0.8 * len(df))\n",
    "train, test = df[:train_size], df[train_size:]\n",
    "X_train, y_train = train.drop('Passengers', axis=1), train['Passengers']\n",
    "X_test, y_test = test.drop('Passengers', axis=1), test['Passengers']\n",
    "\n",
    "# Standardize the data\n",
    "from sklearn.preprocessing import StandardScaler\n",
    "scaler = StandardScaler().fit(X_train)\n",
    "X_train = scaler.transform(X_train)\n",
    "X_test = scaler.transform(X_test)\n",
    "\n",
    "X_train.shape, X_test.shape\n"
   ]
  },
  {
   "cell_type": "markdown",
   "id": "3a6cfbb9",
   "metadata": {},
   "source": [
    "### Linear Regression for Time Series Forecasting"
   ]
  },
  {
   "cell_type": "code",
   "execution_count": null,
   "id": "92fcb334",
   "metadata": {},
   "outputs": [],
   "source": [
    "\n",
    "from sklearn.linear_model import LinearRegression\n",
    "\n",
    "# Train a linear regression model\n",
    "lr_ts = LinearRegression().fit(X_train, y_train)\n",
    "\n",
    "# Predict on test set\n",
    "y_pred_lr = lr_ts.predict(X_test)\n",
    "\n",
    "# Evaluate the model\n",
    "mse_lr = mean_squared_error(y_test, y_pred_lr)\n",
    "mse_lr\n"
   ]
  },
  {
   "cell_type": "markdown",
   "id": "3982630a",
   "metadata": {},
   "source": [
    "### k-NN for Time Series Forecasting"
   ]
  },
  {
   "cell_type": "code",
   "execution_count": null,
   "id": "0fc4f838",
   "metadata": {},
   "outputs": [],
   "source": [
    "\n",
    "from sklearn.neighbors import KNeighborsRegressor\n",
    "\n",
    "# Train a k-NN regressor\n",
    "knn_ts = KNeighborsRegressor(n_neighbors=5).fit(X_train, y_train)\n",
    "\n",
    "# Predict on test set\n",
    "y_pred_knn = knn_ts.predict(X_test)\n",
    "\n",
    "# Evaluate the model\n",
    "mse_knn = mean_squared_error(y_test, y_pred_knn)\n",
    "mse_knn\n"
   ]
  },
  {
   "cell_type": "markdown",
   "id": "b91f8697",
   "metadata": {},
   "source": [
    "### Decision Trees for Time Series Forecasting"
   ]
  },
  {
   "cell_type": "code",
   "execution_count": null,
   "id": "53f72e2e",
   "metadata": {},
   "outputs": [],
   "source": [
    "\n",
    "from sklearn.tree import DecisionTreeRegressor\n",
    "\n",
    "# Train a decision tree regressor\n",
    "dt_ts = DecisionTreeRegressor().fit(X_train, y_train)\n",
    "\n",
    "# Predict on test set\n",
    "y_pred_dt = dt_ts.predict(X_test)\n",
    "\n",
    "# Evaluate the model\n",
    "mse_dt = mean_squared_error(y_test, y_pred_dt)\n",
    "mse_dt\n"
   ]
  },
  {
   "cell_type": "markdown",
   "id": "f0981a7a",
   "metadata": {},
   "source": [
    "### SVM for Time Series Forecasting"
   ]
  },
  {
   "cell_type": "code",
   "execution_count": null,
   "id": "fc7bff8e",
   "metadata": {},
   "outputs": [],
   "source": [
    "\n",
    "from sklearn.svm import SVR\n",
    "\n",
    "# Train an SVM regressor\n",
    "svm_ts = SVR(kernel='linear').fit(X_train, y_train)\n",
    "\n",
    "# Predict on test set\n",
    "y_pred_svm = svm_ts.predict(X_test)\n",
    "\n",
    "# Evaluate the model\n",
    "mse_svm = mean_squared_error(y_test, y_pred_svm)\n",
    "mse_svm\n"
   ]
  },
  {
   "cell_type": "markdown",
   "id": "239ee27b",
   "metadata": {},
   "source": [
    "### K-Means Clustering on Time Series Data"
   ]
  },
  {
   "cell_type": "code",
   "execution_count": null,
   "id": "96f2fbaa",
   "metadata": {},
   "outputs": [],
   "source": [
    "\n",
    "from sklearn.cluster import KMeans\n",
    "\n",
    "# Using KMeans to cluster the lag features (this is a non-typical use-case for KMeans in time series)\n",
    "kmeans_ts = KMeans(n_clusters=3).fit(X_train)\n",
    "\n",
    "# Getting cluster labels for the test set\n",
    "cluster_labels = kmeans_ts.predict(X_test)\n",
    "cluster_labels\n"
   ]
  },
  {
   "cell_type": "markdown",
   "id": "a1b62255",
   "metadata": {},
   "source": [
    "### Plotly Visualization for Linear Regression:"
   ]
  },
  {
   "cell_type": "code",
   "execution_count": null,
   "id": "43083c24",
   "metadata": {},
   "outputs": [],
   "source": [
    "\n",
    "import plotly.express as px\n",
    "\n",
    "# Create a DataFrame for visualization\n",
    "df_lr_ts = pd.DataFrame({'True Values': y_test, 'Predicted Values': y_pred_lr})\n",
    "\n",
    "# Create a line plot for true vs predicted values\n",
    "fig = px.line(df_lr_ts, title='True vs Predicted Values for Linear Regression')\n",
    "fig.add_scatter(y=df_lr_ts['Predicted Values'], mode='lines', name='Predicted Values')\n",
    "fig.show()\n"
   ]
  },
  {
   "cell_type": "markdown",
   "id": "92987329",
   "metadata": {},
   "source": [
    "### Plotly Visualization for k-NN:"
   ]
  },
  {
   "cell_type": "code",
   "execution_count": null,
   "id": "9d371e8b",
   "metadata": {},
   "outputs": [],
   "source": [
    "\n",
    "# Create a DataFrame for visualization\n",
    "df_knn_ts = pd.DataFrame({'True Values': y_test, 'Predicted Values': y_pred_knn})\n",
    "\n",
    "# Create a line plot for true vs predicted values\n",
    "fig = px.line(df_knn_ts, title='True vs Predicted Values for k-NN')\n",
    "fig.add_scatter(y=df_knn_ts['Predicted Values'], mode='lines', name='Predicted Values')\n",
    "fig.show()\n"
   ]
  },
  {
   "cell_type": "markdown",
   "id": "692cd808",
   "metadata": {},
   "source": [
    "### Plotly Visualization for Decision Trees:"
   ]
  },
  {
   "cell_type": "code",
   "execution_count": null,
   "id": "b1b239f4",
   "metadata": {},
   "outputs": [],
   "source": [
    "\n",
    "# Create a DataFrame for visualization\n",
    "df_dt_ts = pd.DataFrame({'True Values': y_test, 'Predicted Values': y_pred_dt})\n",
    "\n",
    "# Create a line plot for true vs predicted values\n",
    "fig = px.line(df_dt_ts, title='True vs Predicted Values for Decision Trees')\n",
    "fig.add_scatter(y=df_dt_ts['Predicted Values'], mode='lines', name='Predicted Values')\n",
    "fig.show()\n"
   ]
  },
  {
   "cell_type": "markdown",
   "id": "eaf50413",
   "metadata": {},
   "source": [
    "### Plotly Visualization for SVM:"
   ]
  },
  {
   "cell_type": "code",
   "execution_count": null,
   "id": "580ba659",
   "metadata": {},
   "outputs": [],
   "source": [
    "\n",
    "# Create a DataFrame for visualization\n",
    "df_svm_ts = pd.DataFrame({'True Values': y_test, 'Predicted Values': y_pred_svm})\n",
    "\n",
    "# Create a line plot for true vs predicted values\n",
    "fig = px.line(df_svm_ts, title='True vs Predicted Values for SVM')\n",
    "fig.add_scatter(y=df_svm_ts['Predicted Values'], mode='lines', name='Predicted Values')\n",
    "fig.show()\n"
   ]
  }
 ],
 "metadata": {},
 "nbformat": 4,
 "nbformat_minor": 5
}
