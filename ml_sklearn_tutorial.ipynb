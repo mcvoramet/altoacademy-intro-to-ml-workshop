{
 "cells": [
  {
   "cell_type": "markdown",
   "id": "76cacca5",
   "metadata": {},
   "source": [
    "### 1. Data Loading and Preprocessing:"
   ]
  },
  {
   "cell_type": "code",
   "execution_count": null,
   "id": "9d5ee664",
   "metadata": {},
   "outputs": [],
   "source": [
    "\n",
    "from sklearn import datasets\n",
    "from sklearn.model_selection import train_test_split\n",
    "from sklearn.preprocessing import StandardScaler\n",
    "\n",
    "# Load data\n",
    "diabetes = datasets.load_diabetes()\n",
    "digits = datasets.load_digits()\n",
    "\n",
    "# Split data into training and test sets\n",
    "X_diabetes_train, X_diabetes_test, y_diabetes_train, y_diabetes_test = train_test_split(diabetes.data, diabetes.target, test_size=0.2, random_state=42)\n",
    "X_digits_train, X_digits_test, y_digits_train, y_digits_test = train_test_split(digits.data, digits.target, test_size=0.2, random_state=42)\n",
    "\n",
    "# Standardize data\n",
    "scaler_diabetes = StandardScaler().fit(X_diabetes_train)\n",
    "X_diabetes_train = scaler_diabetes.transform(X_diabetes_train)\n",
    "X_diabetes_test = scaler_diabetes.transform(X_diabetes_test)\n",
    "\n",
    "scaler_digits = StandardScaler().fit(X_digits_train)\n",
    "X_digits_train = scaler_digits.transform(X_digits_train)\n",
    "X_digits_test = scaler_digits.transform(X_digits_test)\n",
    "    "
   ]
  },
  {
   "cell_type": "markdown",
   "id": "66d32ec8",
   "metadata": {},
   "source": [
    "### Visualization of the Digits Dataset:"
   ]
  },
  {
   "cell_type": "code",
   "execution_count": null,
   "id": "700b9a10",
   "metadata": {},
   "outputs": [],
   "source": [
    "\n",
    "import matplotlib.pyplot as plt\n",
    "\n",
    "# Display some of the images from the digits dataset\n",
    "fig, axes = plt.subplots(2, 5, figsize=(10, 5), subplot_kw={'xticks':[], 'yticks':[]}, gridspec_kw=dict(hspace=0.1, wspace=0.1))\n",
    "for i, ax in enumerate(axes.flat):\n",
    "    ax.imshow(digits.images[i], cmap='binary', interpolation='nearest')\n",
    "    ax.text(0.05, 0.05, str(digits.target[i]), transform=ax.transAxes, color='green')\n",
    "\n",
    "plt.show()\n",
    "    "
   ]
  },
  {
   "cell_type": "markdown",
   "id": "6979700a",
   "metadata": {},
   "source": [
    "### 2. Linear Regression with the Diabetes Dataset:"
   ]
  },
  {
   "cell_type": "code",
   "execution_count": null,
   "id": "5c5bff90",
   "metadata": {},
   "outputs": [],
   "source": [
    "\n",
    "from sklearn.linear_model import LinearRegression\n",
    "from sklearn.metrics import mean_squared_error\n",
    "\n",
    "# Train a linear regression model on the diabetes dataset\n",
    "lr_diabetes = LinearRegression().fit(X_diabetes_train, y_diabetes_train)\n",
    "\n",
    "# Predict on test set\n",
    "y_pred_diabetes = lr_diabetes.predict(X_diabetes_test)\n",
    "\n",
    "# Evaluate the model\n",
    "mse_diabetes = mean_squared_error(y_diabetes_test, y_pred_diabetes)\n",
    "print(f'Mean Squared Error for Linear Regression (Diabetes dataset): {mse_diabetes}')\n"
   ]
  },
  {
   "cell_type": "markdown",
   "id": "92414616",
   "metadata": {},
   "source": [
    "### 3. k-NN (k-Nearest Neighbors):"
   ]
  },
  {
   "cell_type": "code",
   "execution_count": null,
   "id": "c36b95b7",
   "metadata": {},
   "outputs": [],
   "source": [
    "\n",
    "from sklearn.neighbors import KNeighborsClassifier\n",
    "from sklearn.metrics import accuracy_score\n",
    "\n",
    "# Train a k-NN classifier\n",
    "knn = KNeighborsClassifier(n_neighbors=3).fit(X_digits_train, y_digits_train)\n",
    "\n",
    "# Predict on test set\n",
    "y_pred = knn.predict(X_digits_test)\n",
    "\n",
    "# Evaluate the model\n",
    "accuracy = accuracy_score(y_digits_test, y_pred)\n",
    "print(f'Accuracy for k-NN: {accuracy}')\n"
   ]
  },
  {
   "cell_type": "markdown",
   "id": "61a3588d",
   "metadata": {},
   "source": [
    "### 4. Classification and Regression Trees (CART):"
   ]
  },
  {
   "cell_type": "code",
   "execution_count": null,
   "id": "29e4e91e",
   "metadata": {},
   "outputs": [],
   "source": [
    "\n",
    "from sklearn.tree import DecisionTreeClassifier\n",
    "\n",
    "# Train a decision tree classifier\n",
    "dtc = DecisionTreeClassifier().fit(X_digits_train, y_digits_train)\n",
    "\n",
    "# Predict on test set\n",
    "y_pred = dtc.predict(X_digits_test)\n",
    "\n",
    "# Evaluate the model\n",
    "accuracy = accuracy_score(y_digits_test, y_pred)\n",
    "print(f'Accuracy for Decision Tree Classifier: {accuracy}')\n"
   ]
  },
  {
   "cell_type": "markdown",
   "id": "edd22e59",
   "metadata": {},
   "source": [
    "### 5. Naïve Bayes:"
   ]
  },
  {
   "cell_type": "code",
   "execution_count": null,
   "id": "9bff7362",
   "metadata": {},
   "outputs": [],
   "source": [
    "\n",
    "from sklearn.naive_bayes import GaussianNB\n",
    "\n",
    "# Train a Gaussian Naive Bayes classifier\n",
    "gnb = GaussianNB().fit(X_digits_train, y_digits_train)\n",
    "\n",
    "# Predict on test set\n",
    "y_pred = gnb.predict(X_digits_test)\n",
    "\n",
    "# Evaluate the model\n",
    "accuracy = accuracy_score(y_digits_test, y_pred)\n",
    "print(f'Accuracy for Gaussian Naive Bayes: {accuracy}')\n"
   ]
  },
  {
   "cell_type": "markdown",
   "id": "29391be9",
   "metadata": {},
   "source": [
    "### 6. Support Vector Machine (SVM):"
   ]
  },
  {
   "cell_type": "code",
   "execution_count": null,
   "id": "372c923b",
   "metadata": {},
   "outputs": [],
   "source": [
    "\n",
    "from sklearn.svm import SVC\n",
    "\n",
    "# Train an SVM classifier\n",
    "svc = SVC(kernel='linear').fit(X_digits_train, y_digits_train)\n",
    "\n",
    "# Predict on test set\n",
    "y_pred = svc.predict(X_digits_test)\n",
    "\n",
    "# Evaluate the model\n",
    "accuracy = accuracy_score(y_digits_test, y_pred)\n",
    "print(f'Accuracy for SVM: {accuracy}')\n"
   ]
  },
  {
   "cell_type": "markdown",
   "id": "dfde2bd0",
   "metadata": {},
   "source": [
    "### 7. Random Forest:"
   ]
  },
  {
   "cell_type": "code",
   "execution_count": null,
   "id": "b36eb7d4",
   "metadata": {},
   "outputs": [],
   "source": [
    "\n",
    "from sklearn.ensemble import RandomForestClassifier\n",
    "\n",
    "# Train a Random Forest classifier\n",
    "rfc = RandomForestClassifier(n_estimators=100).fit(X_digits_train, y_digits_train)\n",
    "\n",
    "# Predict on test set\n",
    "y_pred = rfc.predict(X_digits_test)\n",
    "\n",
    "# Evaluate the model\n",
    "accuracy = accuracy_score(y_digits_test, y_pred)\n",
    "print(f'Accuracy for Random Forest: {accuracy}')\n"
   ]
  },
  {
   "cell_type": "markdown",
   "id": "d8521288",
   "metadata": {},
   "source": [
    "### 8. K-Means Clustering:"
   ]
  },
  {
   "cell_type": "code",
   "execution_count": null,
   "id": "60290e12",
   "metadata": {},
   "outputs": [],
   "source": [
    "\n",
    "from sklearn.cluster import KMeans\n",
    "\n",
    "# Train a K-Means clustering model\n",
    "kmeans = KMeans(n_clusters=10).fit(X_digits_train)\n",
    "\n",
    "# Evaluate the model\n",
    "print(f'Inertia for K-Means: {kmeans.inertia_}')\n"
   ]
  },
  {
   "cell_type": "markdown",
   "id": "99ac1003",
   "metadata": {},
   "source": [
    "### Plotly Visualization for Linear Regression:"
   ]
  },
  {
   "cell_type": "code",
   "execution_count": null,
   "id": "1578f4f2",
   "metadata": {},
   "outputs": [],
   "source": [
    "\n",
    "import plotly.express as px\n",
    "import pandas as pd\n",
    "\n",
    "# Create a DataFrame for visualization\n",
    "df_lr = pd.DataFrame({'True Values': y_diabetes_test, 'Predicted Values': y_pred_diabetes})\n",
    "\n",
    "# Create a scatter plot for true vs predicted values\n",
    "fig = px.scatter(df_lr, x='True Values', y='Predicted Values', title='True vs Predicted Values for Linear Regression')\n",
    "fig.update_layout(shapes=[dict(type='line', yref='y', y0=min(y_diabetes_test), y1=max(y_diabetes_test),\n",
    "                            xref='x', x0=min(y_diabetes_test), x1=max(y_diabetes_test))])\n",
    "fig.show()\n"
   ]
  },
  {
   "cell_type": "markdown",
   "id": "4f6f43fe",
   "metadata": {},
   "source": [
    "### Plotly Visualization for k-NN:"
   ]
  },
  {
   "cell_type": "code",
   "execution_count": null,
   "id": "c07d3ee0",
   "metadata": {},
   "outputs": [],
   "source": [
    "\n",
    "# Create a DataFrame for visualization\n",
    "df_knn = pd.DataFrame({'True Labels': y_digits_test, 'Predicted Labels': y_pred})\n",
    "\n",
    "# Create a scatter plot for true vs predicted labels\n",
    "fig = px.scatter(df_knn, x='True Labels', y='Predicted Labels', title='True vs Predicted Labels for k-NN')\n",
    "fig.update_layout(shapes=[dict(type='line', yref='y', y0=min(y_digits_test), y1=max(y_digits_test),\n",
    "                            xref='x', x0=min(y_digits_test), x1=max(y_digits_test))])\n",
    "fig.show()\n"
   ]
  },
  {
   "cell_type": "markdown",
   "id": "5b289e7d",
   "metadata": {},
   "source": [
    "### Plotly Visualization for Decision Tree Classifier:"
   ]
  },
  {
   "cell_type": "code",
   "execution_count": null,
   "id": "01b04726",
   "metadata": {},
   "outputs": [],
   "source": [
    "\n",
    "# Decision Tree Classifier predictions\n",
    "y_pred_dtc = dtc.predict(X_digits_test)\n",
    "\n",
    "# Create a DataFrame for visualization\n",
    "df_dtc = pd.DataFrame({'True Labels': y_digits_test, 'Predicted Labels': y_pred_dtc})\n",
    "\n",
    "# Create a scatter plot for true vs predicted labels\n",
    "fig = px.scatter(df_dtc, x='True Labels', y='Predicted Labels', title='True vs Predicted Labels for Decision Tree Classifier')\n",
    "fig.update_layout(shapes=[dict(type='line', yref='y', y0=min(y_digits_test), y1=max(y_digits_test),\n",
    "                            xref='x', x0=min(y_digits_test), x1=max(y_digits_test))])\n",
    "fig.show()\n"
   ]
  },
  {
   "cell_type": "markdown",
   "id": "a3a20617",
   "metadata": {},
   "source": [
    "### Plotly Visualization for Gaussian Naive Bayes:"
   ]
  },
  {
   "cell_type": "code",
   "execution_count": null,
   "id": "deed40ac",
   "metadata": {},
   "outputs": [],
   "source": [
    "\n",
    "# Gaussian Naive Bayes predictions\n",
    "y_pred_gnb = gnb.predict(X_digits_test)\n",
    "\n",
    "# Create a DataFrame for visualization\n",
    "df_gnb = pd.DataFrame({'True Labels': y_digits_test, 'Predicted Labels': y_pred_gnb})\n",
    "\n",
    "# Create a scatter plot for true vs predicted labels\n",
    "fig = px.scatter(df_gnb, x='True Labels', y='Predicted Labels', title='True vs Predicted Labels for Gaussian Naive Bayes')\n",
    "fig.update_layout(shapes=[dict(type='line', yref='y', y0=min(y_digits_test), y1=max(y_digits_test),\n",
    "                            xref='x', x0=min(y_digits_test), x1=max(y_digits_test))])\n",
    "fig.show()\n"
   ]
  },
  {
   "cell_type": "markdown",
   "id": "7976fa3c",
   "metadata": {},
   "source": [
    "### Plotly Visualization for Support Vector Machine (SVM):"
   ]
  },
  {
   "cell_type": "code",
   "execution_count": null,
   "id": "e9c445fa",
   "metadata": {},
   "outputs": [],
   "source": [
    "\n",
    "# SVM predictions\n",
    "y_pred_svm = svc.predict(X_digits_test)\n",
    "\n",
    "# Create a DataFrame for visualization\n",
    "df_svm = pd.DataFrame({'True Labels': y_digits_test, 'Predicted Labels': y_pred_svm})\n",
    "\n",
    "# Create a scatter plot for true vs predicted labels\n",
    "fig = px.scatter(df_svm, x='True Labels', y='Predicted Labels', title='True vs Predicted Labels for SVM')\n",
    "fig.update_layout(shapes=[dict(type='line', yref='y', y0=min(y_digits_test), y1=max(y_digits_test),\n",
    "                            xref='x', x0=min(y_digits_test), x1=max(y_digits_test))])\n",
    "fig.show()\n"
   ]
  },
  {
   "cell_type": "markdown",
   "id": "40f9f4c3",
   "metadata": {},
   "source": [
    "### Plotly Visualization for Random Forest:"
   ]
  },
  {
   "cell_type": "code",
   "execution_count": null,
   "id": "193d170c",
   "metadata": {},
   "outputs": [],
   "source": [
    "\n",
    "# Random Forest predictions\n",
    "y_pred_rf = rfc.predict(X_digits_test)\n",
    "\n",
    "# Create a DataFrame for visualization\n",
    "df_rf = pd.DataFrame({'True Labels': y_digits_test, 'Predicted Labels': y_pred_rf})\n",
    "\n",
    "# Create a scatter plot for true vs predicted labels\n",
    "fig = px.scatter(df_rf, x='True Labels', y='Predicted Labels', title='True vs Predicted Labels for Random Forest')\n",
    "fig.update_layout(shapes=[dict(type='line', yref='y', y0=min(y_digits_test), y1=max(y_digits_test),\n",
    "                            xref='x', x0=min(y_digits_test), x1=max(y_digits_test))])\n",
    "fig.show()\n"
   ]
  }
 ],
 "metadata": {},
 "nbformat": 4,
 "nbformat_minor": 5
}
